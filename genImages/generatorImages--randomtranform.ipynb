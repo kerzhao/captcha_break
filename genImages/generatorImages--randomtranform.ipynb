{
 "cells": [
  {
   "cell_type": "markdown",
   "metadata": {},
   "source": [
    "# 通过随机扭动生成新的图片"
   ]
  },
  {
   "cell_type": "markdown",
   "metadata": {},
   "source": [
    "<span style=\"color:red\">import library<span>"
   ]
  },
  {
   "cell_type": "code",
   "execution_count": 1,
   "metadata": {
    "collapsed": true
   },
   "outputs": [],
   "source": [
    "import os\n",
    "import numpy as np\n",
    "import cv2\n",
    "import matplotlib.pyplot as plt"
   ]
  },
  {
   "cell_type": "code",
   "execution_count": 41,
   "metadata": {
    "collapsed": true
   },
   "outputs": [],
   "source": [
    "def randomMoveListGen(length, maxthresh):\n",
    "    done = False\n",
    "    while not done:\n",
    "        tmp = np.random.choice([-1, 0, 1], [length])\n",
    "        a = 0\n",
    "        ret = []\n",
    "        for i in tmp:\n",
    "            a += i\n",
    "            ret.append(a)\n",
    "        ret = np.array(ret)\n",
    "        ret[ret>maxthresh] = maxthresh\n",
    "        ret[ret<-maxthresh] = -maxthresh\n",
    "        cnt = len(ret[ret==maxthresh]) + len(ret[ret==-maxthresh])\n",
    "        print cnt\n",
    "        if cnt < length/3:\n",
    "            done = True\n",
    "    return ret"
   ]
  },
  {
   "cell_type": "code",
   "execution_count": 57,
   "metadata": {
    "collapsed": true
   },
   "outputs": [],
   "source": [
    "path = os.getcwd() + '/test3'"
   ]
  },
  {
   "cell_type": "code",
   "execution_count": null,
   "metadata": {
    "collapsed": true
   },
   "outputs": [],
   "source": []
  }
 ],
 "metadata": {
  "kernelspec": {
   "display_name": "Python 2",
   "language": "python",
   "name": "python2"
  },
  "language_info": {
   "codemirror_mode": {
    "name": "ipython",
    "version": 2
   },
   "file_extension": ".py",
   "mimetype": "text/x-python",
   "name": "python",
   "nbconvert_exporter": "python",
   "pygments_lexer": "ipython2",
   "version": "2.7.13"
  }
 },
 "nbformat": 4,
 "nbformat_minor": 2
}
