{
 "cells": [
  {
   "cell_type": "code",
   "execution_count": 1,
   "metadata": {
    "collapsed": true
   },
   "outputs": [],
   "source": [
    "import os\n",
    "import numpy as np\n",
    "import cv2\n",
    "import matplotlib.pyplot as plt"
   ]
  },
  {
   "cell_type": "code",
   "execution_count": 5,
   "metadata": {
    "collapsed": true
   },
   "outputs": [],
   "source": [
    "path = os.getcwd() + '\\\\test4'"
   ]
  },
  {
   "cell_type": "code",
   "execution_count": 2,
   "metadata": {
    "collapsed": true
   },
   "outputs": [],
   "source": [
    "def extendBoard(img, axis, b, count):\n",
    "    #获取边界值\n",
    "    if axis:\n",
    "        board = img[:, b].reshape((-1, 1, 3))\n",
    "    else:\n",
    "        board = img[b].reshape((1, -1, 3))\n",
    "    #计算新边界\n",
    "    if axis:\n",
    "        ave = np.average(board, axis=0)\n",
    "    else:\n",
    "        ave = np.average(board, axis=1)\n",
    "    board[:, :] = ave\n",
    "    newboard = np.concatenate([board] * count, axis=axis)\n",
    "    #\n",
    "    if not b:\n",
    "        newimg = np.concatenate([newboard, img], axis=axis)\n",
    "    else:\n",
    "        newimg = np.concatenate([img, newboard], axis=axis)\n",
    "    return newimg"
   ]
  },
  {
   "cell_type": "code",
   "execution_count": 3,
   "metadata": {
    "collapsed": true
   },
   "outputs": [],
   "source": [
    "def getExtendedImg(img, ext):\n",
    "    newimg = extendBoard(img, 0, 0, ext)\n",
    "    newimg = extendBoard(newimg, 0, -1, ext)\n",
    "    newimg = extendBoard(newimg, 1, 0, ext)\n",
    "    newimg = extendBoard(newimg, 1, -1, ext)\n",
    "    return newimg"
   ]
  },
  {
   "cell_type": "code",
   "execution_count": 4,
   "metadata": {
    "collapsed": true
   },
   "outputs": [],
   "source": [
    "def createMoveImages(path, move):\n",
    "    for root, dirs, files in os.walk(path):\n",
    "        for f in files:\n",
    "            img = cv2.imread(root + '\\\\' + f)\n",
    "            m, n, _ = img.shape\n",
    "            #extend\n",
    "            newimg = extendBoard(img, 0, 0, move)\n",
    "            newimg = extendBoard(newimg, 0, -1, move)\n",
    "            newimg = extendBoard(newimg, 1, 0, move)\n",
    "            newimg = extendBoard(newimg, 1, -1, move)\n",
    "            for i in range(move):\n",
    "                for j in range(move):\n",
    "                    result = newimg[i:i+m, j:j+n]\n",
    "                    cv2.imwrite(root+'\\\\'+f[:-4]+'_m%d%d.png' %(i, j), result)"
   ]
  },
  {
   "cell_type": "code",
   "execution_count": 6,
   "metadata": {
    "collapsed": true
   },
   "outputs": [],
   "source": [
    "def genColorImg(img, delta, thresh=230):\n",
    "    th = img < thresh\n",
    "    a = np.zeros(img.shape, dtype='uint8')\n",
    "    a[th] = delta\n",
    "    return img + a"
   ]
  },
  {
   "cell_type": "code",
   "execution_count": 7,
   "metadata": {
    "collapsed": true
   },
   "outputs": [],
   "source": [
    "def createColorImages(path, color):\n",
    "    for root, dirs, files in os.walk(path):\n",
    "        for f in files:\n",
    "            img = cv2.imread(root + '\\\\' + f)\n",
    "            for i in range(-color, color):\n",
    "                newimg = genColorImg(img, i)\n",
    "                cv2.imwrite(root+'\\\\'+f[:-4]+'_c%d.png' %(i), newimg)"
   ]
  },
  {
   "cell_type": "code",
   "execution_count": 8,
   "metadata": {
    "collapsed": true
   },
   "outputs": [],
   "source": [
    "def randomMoveListGen(length, maxthresh):\n",
    "    done = False\n",
    "    while not done:\n",
    "        tmp = np.random.choice([-1, 0, 1], [length])\n",
    "        a = 0\n",
    "        ret = []\n",
    "        for i in tmp:\n",
    "            a += i\n",
    "            ret.append(a)\n",
    "        ret = np.array(ret)\n",
    "        ret[ret>maxthresh] = maxthresh\n",
    "        ret[ret<-maxthresh] = -maxthresh\n",
    "        cnt = len(ret[ret==maxthresh]) + len(ret[ret==-maxthresh])\n",
    "        if cnt < length/3:\n",
    "            done = True\n",
    "    return ret"
   ]
  },
  {
   "cell_type": "code",
   "execution_count": 9,
   "metadata": {
    "collapsed": true
   },
   "outputs": [],
   "source": [
    "def getTransformImg(img, maxthresh):\n",
    "    m, n, _ = img.shape\n",
    "    retimg = np.zeros(img.shape, dtype='uint8')\n",
    "    newimg = getExtendedImg(img, maxthresh)\n",
    "    rows = randomMoveListGen(m+2*maxthresh, maxthresh) + maxthresh\n",
    "    cols = randomMoveListGen(n+2*maxthresh, maxthresh) + maxthresh\n",
    "    for i, j in enumerate(rows[maxthresh:maxthresh+m]):\n",
    "        retimg[i, :] = newimg[i, j:j+n]\n",
    "    for i, j in enumerate(cols[maxthresh:maxthresh+n]):\n",
    "        retimg[:, i] = newimg[j:j+m, i]\n",
    "    return retimg"
   ]
  },
  {
   "cell_type": "code",
   "execution_count": 10,
   "metadata": {
    "collapsed": true
   },
   "outputs": [],
   "source": [
    "def createTransformImages(path, count, maxthresh=5):\n",
    "    for root, dirs, files in os.walk(path):\n",
    "        for f in files:\n",
    "            img = cv2.imread(root + '\\\\' + f)\n",
    "            for i in range(count):\n",
    "                newimg = getTransformImg(img, maxthresh)\n",
    "                cv2.imwrite(root+'\\\\'+f[:-4]+'_t%d.png' %(i), newimg)"
   ]
  },
  {
   "cell_type": "code",
   "execution_count": 12,
   "metadata": {
    "collapsed": false
   },
   "outputs": [
    {
     "name": "stdout",
     "output_type": "stream",
     "text": [
      "done\n"
     ]
    }
   ],
   "source": [
    "createMoveImages(path, 3)\n",
    "createColorImages(path, 20)\n",
    "createTransformImages(path, 100)\n",
    "print 'done'"
   ]
  },
  {
   "cell_type": "code",
   "execution_count": null,
   "metadata": {
    "collapsed": true
   },
   "outputs": [],
   "source": []
  }
 ],
 "metadata": {
  "kernelspec": {
   "display_name": "Python 2",
   "language": "python",
   "name": "python2"
  },
  "language_info": {
   "codemirror_mode": {
    "name": "ipython",
    "version": 2
   },
   "file_extension": ".py",
   "mimetype": "text/x-python",
   "name": "python",
   "nbconvert_exporter": "python",
   "pygments_lexer": "ipython2",
   "version": "2.7.13"
  }
 },
 "nbformat": 4,
 "nbformat_minor": 2
}
