{
 "cells": [
  {
   "cell_type": "markdown",
   "metadata": {},
   "source": [
    "# 通过平移生成新的图片"
   ]
  },
  {
   "cell_type": "markdown",
   "metadata": {},
   "source": [
    "<span style=\"color:red\">导入必要的库<span>"
   ]
  },
  {
   "cell_type": "code",
   "execution_count": 2,
   "metadata": {
    "collapsed": true
   },
   "outputs": [],
   "source": [
    "import os\n",
    "import numpy as np\n",
    "import cv2\n",
    "import matplotlib.pyplot as plt"
   ]
  },
  {
   "cell_type": "code",
   "execution_count": 3,
   "metadata": {
    "collapsed": false
   },
   "outputs": [],
   "source": [
    "path = os.getcwd() + '\\\\test1'"
   ]
  },
  {
   "cell_type": "markdown",
   "metadata": {},
   "source": [
    "<span style=\"color:red\">定义extendBoard扩展图像函数<span>\n",
    "\n",
    "<span style=\"color:black\">Parameter:<span><br/>\n",
    "<span style=\"color:black\">img:需要扩展的图像<span><br/>\n",
    "<span style=\"color:black\">axis:轴<span><br/>\n",
    "<span style=\"color:black\">b:扩展边界坐标0/-1<span><br/>\n",
    "<span style=\"color:black\">count:扩展数<span><br/>\n",
    "<span style=\"color:black\">Return:<span><br/>\n",
    "<span style=\"color:black\">newimg:扩展后的图像<span><br/>"
   ]
  },
  {
   "cell_type": "code",
   "execution_count": 4,
   "metadata": {
    "collapsed": false
   },
   "outputs": [],
   "source": [
    "def extendBoard(img, axis, b, count):\n",
    "    #获取边界值\n",
    "    if axis:\n",
    "        board = img[:, b].reshape((-1, 1, 3))\n",
    "    else:\n",
    "        board = img[b].reshape((1, -1, 3))\n",
    "    #计算新边界\n",
    "    if axis:\n",
    "        ave = np.average(board, axis=0)\n",
    "    else:\n",
    "        ave = np.average(board, axis=1)\n",
    "    board[:, :] = ave\n",
    "    newboard = np.concatenate([board] * count, axis=axis)\n",
    "    #\n",
    "    if not b:\n",
    "        newimg = np.concatenate([newboard, img], axis=axis)\n",
    "    else:\n",
    "        newimg = np.concatenate([img, newboard], axis=axis)\n",
    "    return newimg"
   ]
  },
  {
   "cell_type": "code",
   "execution_count": 5,
   "metadata": {
    "collapsed": true
   },
   "outputs": [],
   "source": [
    "def getExtendedImg(img, ext):\n",
    "    newimg = extendBoard(img, 0, 0, ext)\n",
    "    newimg = extendBoard(newimg, 0, -1, ext)\n",
    "    newimg = extendBoard(newimg, 1, 0, ext)\n",
    "    newimg = extendBoard(newimg, 1, -1, ext)\n",
    "    return newimg"
   ]
  },
  {
   "cell_type": "code",
   "execution_count": 12,
   "metadata": {
    "collapsed": true
   },
   "outputs": [],
   "source": [
    "def createMoveImages(path, move):\n",
    "    for root, dirs, files in os.walk(path):\n",
    "        for f in files:\n",
    "            img = cv2.imread(root + '\\\\' + f)\n",
    "            m, n, _ = img.shape\n",
    "            #extend\n",
    "            newimg = extendBoard(img, 0, 0, move)\n",
    "            newimg = extendBoard(newimg, 0, -1, move)\n",
    "            newimg = extendBoard(newimg, 1, 0, move)\n",
    "            newimg = extendBoard(newimg, 1, -1, move)\n",
    "            for i in range(move):\n",
    "                for j in range(move):\n",
    "                    result = newimg[i:i+m, j:j+n]\n",
    "                    cv2.imwrite(root+'\\\\'+f[:-4]+'_m%d%d.png' %(i, j), result)"
   ]
  },
  {
   "cell_type": "code",
   "execution_count": 15,
   "metadata": {
    "collapsed": false
   },
   "outputs": [
    {
     "name": "stdout",
     "output_type": "stream",
     "text": [
      "end\n"
     ]
    }
   ],
   "source": [
    "createMoveImages(path, 3)\n",
    "print 'end'"
   ]
  },
  {
   "cell_type": "code",
   "execution_count": null,
   "metadata": {
    "collapsed": true
   },
   "outputs": [],
   "source": []
  }
 ],
 "metadata": {
  "kernelspec": {
   "display_name": "Python 2",
   "language": "python",
   "name": "python2"
  },
  "language_info": {
   "codemirror_mode": {
    "name": "ipython",
    "version": 2
   },
   "file_extension": ".py",
   "mimetype": "text/x-python",
   "name": "python",
   "nbconvert_exporter": "python",
   "pygments_lexer": "ipython2",
   "version": "2.7.13"
  }
 },
 "nbformat": 4,
 "nbformat_minor": 2
}
