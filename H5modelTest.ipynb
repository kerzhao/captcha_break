{
 "cells": [
  {
   "cell_type": "markdown",
   "metadata": {},
   "source": [
    "# 导入必要的库\n",
    "\n",
    "我们需要导入一个叫 [captcha](https://github.com/lepture/captcha/) 的库来生成验证码。\n",
    "\n",
    "我们生成验证码的字符由数字和大写字母组成。"
   ]
  },
  {
   "cell_type": "code",
   "execution_count": 4,
   "metadata": {
    "collapsed": false
   },
   "outputs": [
    {
     "name": "stderr",
     "output_type": "stream",
     "text": [
      "Using TensorFlow backend.\n"
     ]
    },
    {
     "name": "stdout",
     "output_type": "stream",
     "text": [
      "ABCDEFGHIJKLMNOPQRSTUVWXYZabdefghijlmnqrtuwxy\n",
      "/home/z/gtest/captcha_break/sample3\n"
     ]
    }
   ],
   "source": [
    "import cv2\n",
    "import os\n",
    "import matplotlib.pyplot as plt\n",
    "import numpy as np\n",
    "import random\n",
    "from keras.models import load_model\n",
    "\n",
    "%matplotlib inline\n",
    "%config InlineBackend.figure_format = 'retina'\n",
    "\n",
    "import string\n",
    "characters = string.ascii_uppercase\n",
    "undistinct = 'CKOPSVZ'\n",
    "chars = characters\n",
    "for i in characters:\n",
    "    if i not in undistinct:\n",
    "        chars += i.lower()\n",
    "print(chars)\n",
    "\n",
    "width, height, n_len, n_class = 130, 53, 4, len(chars)\n",
    "path = os.getcwd() + '/sample3'\n",
    "print path"
   ]
  },
  {
   "cell_type": "code",
   "execution_count": 2,
   "metadata": {
    "collapsed": true
   },
   "outputs": [],
   "source": [
    "root, dirs, files = os.walk(path).next()\n",
    "\n",
    "def getAllImages(path):\n",
    "    cnt = len(files)\n",
    "    X = np.zeros((cnt, height, width, 1), dtype=np.uint8)\n",
    "    y = []\n",
    "    for i, j in enumerate(files):\n",
    "        #X[i] = cv2.imread(root+'/'+j)\n",
    "        img = cv2.imread(root+'/'+j)\n",
    "        blur = cv2.bilateralFilter(img, 9, 75, 75)\n",
    "        grayimg = cv2.cvtColor(img, cv2.COLOR_BGR2GRAY)\n",
    "        X[i] = grayimg.reshape((height, width, 1))\n",
    "        y.append(j[:4])\n",
    "    return X, y\n",
    "\n",
    "allX, ally = getAllImages(path)"
   ]
  },
  {
   "cell_type": "code",
   "execution_count": 3,
   "metadata": {
    "collapsed": true
   },
   "outputs": [],
   "source": [
    "def decode(y):\n",
    "    y = np.argmax(np.array(y), axis=2)[:,0]\n",
    "    return ''.join([chars[x] for x in y])"
   ]
  },
  {
   "cell_type": "markdown",
   "metadata": {},
   "source": [
    "# import result"
   ]
  },
  {
   "cell_type": "code",
   "execution_count": 5,
   "metadata": {
    "collapsed": true
   },
   "outputs": [],
   "source": [
    "model = load_model('mycnn.h5')"
   ]
  },
  {
   "cell_type": "markdown",
   "metadata": {},
   "source": [
    "# test gen"
   ]
  },
  {
   "cell_type": "code",
   "execution_count": 6,
   "metadata": {
    "collapsed": true
   },
   "outputs": [],
   "source": [
    "test_path = os.getcwd() + '/sample_test'\n",
    "root, dirs, files = os.walk(test_path).next()\n",
    "\n",
    "testallX, testally = getAllImages(test_path)\n",
    "\n",
    "def gen_test(batch_size=8):\n",
    "    X = np.zeros((batch_size, height, width, 1), dtype=np.uint8)\n",
    "    y = [np.zeros((batch_size, n_class), dtype=np.uint8) for i in range(n_len)]\n",
    "    cnt = 0\n",
    "    while True:\n",
    "        for i in range(batch_size):\n",
    "            X[i] = testallX[cnt]\n",
    "            for j, ch in enumerate(testally[cnt]):\n",
    "                y[j][i, :] = 0\n",
    "                y[j][i, chars.find(ch)] = 1\n",
    "            if cnt >= len(files) - 1:\n",
    "                cnt = 0\n",
    "            else:\n",
    "                cnt += 1\n",
    "        yield X, y"
   ]
  },
  {
   "cell_type": "code",
   "execution_count": 7,
   "metadata": {
    "collapsed": true
   },
   "outputs": [],
   "source": [
    "a = gen_test(1)"
   ]
  },
  {
   "cell_type": "markdown",
   "metadata": {},
   "source": [
    "# predict"
   ]
  },
  {
   "cell_type": "code",
   "execution_count": 11,
   "metadata": {
    "collapsed": false
   },
   "outputs": [
    {
     "data": {
      "text/plain": [
       "(-0.5, 129.5, 52.5, -0.5)"
      ]
     },
     "execution_count": 11,
     "metadata": {},
     "output_type": "execute_result"
    },
    {
     "data": {
      "image/png": "[encoded data removed]",
      "text/plain": [
       "<matplotlib.figure.Figure at 0x7fdf0d690f10>"
      ]
     },
     "metadata": {
      "image/png": {
       "height": 196,
       "width": 370
      }
     },
     "output_type": "display_data"
    }
   ],
   "source": [
    "X, y = a.next()\n",
    "y_pred = model.predict(X)\n",
    "plt.title('real: %s\\npred:%s'%(decode(y), decode(y_pred)))\n",
    "plt.imshow(X[0].reshape((height, width)), cmap='gray')\n",
    "plt.axis('off')"
   ]
  },
  {
   "cell_type": "code",
   "execution_count": null,
   "metadata": {
    "collapsed": true
   },
   "outputs": [],
   "source": []
  }
 ],
 "metadata": {
  "kernelspec": {
   "display_name": "Python 2",
   "language": "python",
   "name": "python2"
  },
  "language_info": {
   "codemirror_mode": {
    "name": "ipython",
    "version": 2
   },
   "file_extension": ".py",
   "mimetype": "text/x-python",
   "name": "python",
   "nbconvert_exporter": "python",
   "pygments_lexer": "ipython2",
   "version": "2.7.13"
  }
 },
 "nbformat": 4,
 "nbformat_minor": 2
}
