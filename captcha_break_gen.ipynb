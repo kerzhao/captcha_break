{
 "cells": [
  {
   "cell_type": "code",
   "execution_count": 10,
   "metadata": {
    "collapsed": true
   },
   "outputs": [],
   "source": [
    "import cv2\n",
    "import os\n",
    "import numpy as np\n",
    "import random\n",
    "import matplotlib.pyplot as plt"
   ]
  },
  {
   "cell_type": "code",
   "execution_count": 67,
   "metadata": {
    "collapsed": false
   },
   "outputs": [
    {
     "name": "stdout",
     "output_type": "stream",
     "text": [
      "ABCDEFGHIJKLMNOPQRSTUVWXYZabdefghijlmnqrtuwxy\n",
      "/home/z/gtest/captcha_break/sample3\n"
     ]
    }
   ],
   "source": [
    "import string\n",
    "characters = string.ascii_uppercase\n",
    "undistinct = 'CKOPSVZ'\n",
    "chars = characters\n",
    "for i in characters:\n",
    "    if i not in undistinct:\n",
    "        chars += i.lower()\n",
    "print(chars)\n",
    "\n",
    "width, height, n_len, n_class = 130, 53, 4, len(chars)\n",
    "path = os.getcwd() + '/sample3'\n",
    "print path"
   ]
  },
  {
   "cell_type": "code",
   "execution_count": 68,
   "metadata": {
    "collapsed": true
   },
   "outputs": [],
   "source": [
    "root, dirs, files = os.walk(path).next()"
   ]
  },
  {
   "cell_type": "code",
   "execution_count": 69,
   "metadata": {
    "collapsed": true
   },
   "outputs": [],
   "source": [
    "\n",
    "\n",
    "def getAllImages(root, files):\n",
    "    X = np.zeros((height, width, 1), dtype=np.uint8)\n",
    "    y = []\n",
    "    for i, j in enumerate(files):\n",
    "        #X[i] = cv2.imread(root+'/'+j)\n",
    "        img = cv2.imread(root+'/'+j)\n",
    "        blur = cv2.bilateralFilter(img, 9, 75, 75)\n",
    "        grayimg = cv2.cvtColor(img, cv2.COLOR_BGR2GRAY)\n",
    "        X = grayimg.reshape((height, width, 1))\n",
    "        y.append(j[:4])\n",
    "        yield X, y"
   ]
  },
  {
   "cell_type": "code",
   "execution_count": 70,
   "metadata": {
    "collapsed": true
   },
   "outputs": [],
   "source": [
    "\n",
    "\n",
    "def gen(root, files, batch_size=8):\n",
    "    X = np.zeros((batch_size, height, width, 1), dtype=np.uint8)\n",
    "    y = [np.zeros((batch_size, n_class), dtype=np.uint8) for i in range(n_len)]\n",
    "    cnt = 0\n",
    "    genimages = getAllImages(root, files)\n",
    "    while True:\n",
    "        for i in range(batch_size):\n",
    "            try:\n",
    "                allX, ally = genimages.next()\n",
    "            except:\n",
    "                genimages = getAllImages(root, files)\n",
    "                allX, ally = genimages.next()\n",
    "            X[i] = allX\n",
    "            for j, ch in enumerate(ally):\n",
    "                y[j][i, :] = 0\n",
    "                y[j][i, chars.find(ch)] = 1\n",
    "        yield X, y"
   ]
  },
  {
   "cell_type": "code",
   "execution_count": 71,
   "metadata": {
    "collapsed": false
   },
   "outputs": [
    {
     "data": {
      "text/plain": [
       "(53, 130, 1)"
      ]
     },
     "execution_count": 71,
     "metadata": {},
     "output_type": "execute_result"
    }
   ],
   "source": [
    "x.shape"
   ]
  },
  {
   "cell_type": "code",
   "execution_count": 72,
   "metadata": {
    "collapsed": false
   },
   "outputs": [],
   "source": [
    "a = getAllImages(root, files)"
   ]
  },
  {
   "cell_type": "code",
   "execution_count": 88,
   "metadata": {
    "collapsed": false
   },
   "outputs": [
    {
     "data": {
      "image/png": "[encoded data removed]",
      "text/plain": [
       "<matplotlib.figure.Figure at 0x7fe10860a310>"
      ]
     },
     "metadata": {},
     "output_type": "display_data"
    }
   ],
   "source": [
    "x, y = a.next()\n",
    "plt.imshow(x.reshape((height, width)), 'gray')\n",
    "plt.show()"
   ]
  },
  {
   "cell_type": "code",
   "execution_count": null,
   "metadata": {
    "collapsed": true
   },
   "outputs": [],
   "source": []
  }
 ],
 "metadata": {
  "kernelspec": {
   "display_name": "Python 2",
   "language": "python",
   "name": "python2"
  },
  "language_info": {
   "codemirror_mode": {
    "name": "ipython",
    "version": 2
   },
   "file_extension": ".py",
   "mimetype": "text/x-python",
   "name": "python",
   "nbconvert_exporter": "python",
   "pygments_lexer": "ipython2",
   "version": "2.7.13"
  }
 },
 "nbformat": 4,
 "nbformat_minor": 2
}
